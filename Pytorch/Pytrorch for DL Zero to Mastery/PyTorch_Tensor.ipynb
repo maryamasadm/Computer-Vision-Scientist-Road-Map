{
  "cells": [
    {
      "cell_type": "markdown",
      "metadata": {
        "id": "JBJlsGcwswry"
      },
      "source": [
        "\n",
        "\n",
        "**Import** **Libraries**\n"
      ]
    },
    {
      "cell_type": "markdown",
      "metadata": {},
      "source": [
        "Data structure which being used when using PyTorch for developing a neural network\n",
        "\n",
        "Pytorch tensors are similar to numpy arrays, but can also be operated on CUDA-capable Nvidia GPU. Numpy arrays are mainly used in typical machine learning algorithms (such as k-means or Decision Tree in scikit-learn) whereas pytorch tensors are mainly used in deep learning which requires heavy matrix computation [Kaggle]\n",
        "\n",
        "What is Tensor?\n",
        "Tensors are containers that can have data in any dimensions. Tensors are the basic data structure in machine learning and deep learning models. A tensor can be considered as a container for numerical data (numbers).\n",
        "1D Tensor is a vector. 2D Tensor is a Matrix. It can have also 3D like a cube. We can also we can put all these cubes beside each other to have 4D , or even 60D Tensor. And finally it can be ND Tensor.\n"
      ]
    },
    {
      "cell_type": "code",
      "execution_count": null,
      "metadata": {
        "id": "sUXqHCeSkeFu"
      },
      "outputs": [],
      "source": [
        "import numpy as np\n",
        "import torch"
      ]
    },
    {
      "cell_type": "code",
      "execution_count": 4,
      "metadata": {
        "colab": {
          "base_uri": "https://localhost:8080/"
        },
        "id": "kw0LsakklFF7",
        "outputId": "a910ec31-4008-4942-cbd2-ba5da288089c"
      },
      "outputs": [
        {
          "data": {
            "text/plain": [
              "numpy.ndarray"
            ]
          },
          "execution_count": 4,
          "metadata": {},
          "output_type": "execute_result"
        }
      ],
      "source": [
        "arr1 = np.array([])\n",
        "#arr1.dtype\n",
        "type(arr1)"
      ]
    },
    {
      "cell_type": "code",
      "execution_count": 7,
      "metadata": {
        "colab": {
          "base_uri": "https://localhost:8080/"
        },
        "id": "vuj8RuFbllPu",
        "outputId": "1ad8ac18-fd04-4384-ee17-da2024fb630d"
      },
      "outputs": [
        {
          "data": {
            "text/plain": [
              "torch.Tensor"
            ]
          },
          "execution_count": 7,
          "metadata": {},
          "output_type": "execute_result"
        }
      ],
      "source": [
        "tens1 = torch.tensor([])\n",
        "#tens1.dtype\n",
        "type(tens1)"
      ]
    },
    {
      "cell_type": "code",
      "execution_count": 10,
      "metadata": {
        "colab": {
          "base_uri": "https://localhost:8080/"
        },
        "id": "0rf_HPyzmDRa",
        "outputId": "13fa7073-9b5f-463f-c111-e8cfa64b2f71"
      },
      "outputs": [
        {
          "data": {
            "text/plain": [
              "numpy.ndarray"
            ]
          },
          "execution_count": 10,
          "metadata": {},
          "output_type": "execute_result"
        }
      ],
      "source": [
        "arr2 = np.array([1,2,3,4])\n",
        "#print(arr2)\n",
        "type(arr2)"
      ]
    },
    {
      "cell_type": "code",
      "execution_count": 12,
      "metadata": {
        "colab": {
          "base_uri": "https://localhost:8080/"
        },
        "id": "wZePpgN3mW1z",
        "outputId": "3f2af406-29f3-4cfa-c65d-9ee6c9c94460"
      },
      "outputs": [
        {
          "ename": "NameError",
          "evalue": "name 'torch' is not defined",
          "output_type": "error",
          "traceback": [
            "\u001b[1;31m---------------------------------------------------------------------------\u001b[0m",
            "\u001b[1;31mNameError\u001b[0m                                 Traceback (most recent call last)",
            "\u001b[1;32mc:\\Users\\TE580354\\OneDrive - TE Connectivity\\my files\\Udemy\\Pytorch\\my_codes\\PyTorch_Tensor.ipynb Cell 7\u001b[0m line \u001b[0;36m2\n\u001b[0;32m      <a href='vscode-notebook-cell:/c%3A/Users/TE580354/OneDrive%20-%20TE%20Connectivity/my%20files/Udemy/Pytorch/my_codes/PyTorch_Tensor.ipynb#W5sZmlsZQ%3D%3D?line=0'>1</a>\u001b[0m \u001b[39m# how make a tensor from an array\u001b[39;00m\n\u001b[1;32m----> <a href='vscode-notebook-cell:/c%3A/Users/TE580354/OneDrive%20-%20TE%20Connectivity/my%20files/Udemy/Pytorch/my_codes/PyTorch_Tensor.ipynb#W5sZmlsZQ%3D%3D?line=1'>2</a>\u001b[0m tens2 \u001b[39m=\u001b[39m torch\u001b[39m.\u001b[39mfrom_numpy(arr2)\n\u001b[0;32m      <a href='vscode-notebook-cell:/c%3A/Users/TE580354/OneDrive%20-%20TE%20Connectivity/my%20files/Udemy/Pytorch/my_codes/PyTorch_Tensor.ipynb#W5sZmlsZQ%3D%3D?line=2'>3</a>\u001b[0m \u001b[39mprint\u001b[39m(tens2)\n\u001b[0;32m      <a href='vscode-notebook-cell:/c%3A/Users/TE580354/OneDrive%20-%20TE%20Connectivity/my%20files/Udemy/Pytorch/my_codes/PyTorch_Tensor.ipynb#W5sZmlsZQ%3D%3D?line=3'>4</a>\u001b[0m \u001b[39mtype\u001b[39m(tens2)\n",
            "\u001b[1;31mNameError\u001b[0m: name 'torch' is not defined"
          ]
        }
      ],
      "source": [
        "# how make a tensor from an array\n",
        "tens2 = torch.from_numpy(arr2)\n",
        "print(tens2)\n",
        "type(tens2)"
      ]
    },
    {
      "cell_type": "code",
      "execution_count": 13,
      "metadata": {
        "colab": {
          "base_uri": "https://localhost:8080/"
        },
        "id": "I_5cREdgmzo_",
        "outputId": "8b8cc733-719d-462a-f2ab-0e2f8ff22036"
      },
      "outputs": [
        {
          "name": "stdout",
          "output_type": "stream",
          "text": [
            "tensor([ 1, 10,  3,  4])\n"
          ]
        }
      ],
      "source": [
        "# if I change sth in the tensor , dose it change in the array as well? yes\n",
        "# if you use from_numpy , it uses the same memory as array for the new tensor\n",
        "tens2[1] = 10\n",
        "print(tens2)"
      ]
    },
    {
      "cell_type": "code",
      "execution_count": 14,
      "metadata": {
        "colab": {
          "base_uri": "https://localhost:8080/"
        },
        "id": "VaPdMAoUnD98",
        "outputId": "6839b8a7-7e35-4fdc-f61e-87a6317900e1"
      },
      "outputs": [
        {
          "name": "stdout",
          "output_type": "stream",
          "text": [
            "[ 1 10  3  4]\n"
          ]
        }
      ],
      "source": [
        "print(arr2)"
      ]
    },
    {
      "cell_type": "code",
      "execution_count": 16,
      "metadata": {
        "colab": {
          "base_uri": "https://localhost:8080/"
        },
        "id": "Lbjf2nKUngBk",
        "outputId": "07e684ed-90ba-48a8-d456-ff6e0016bfef"
      },
      "outputs": [
        {
          "name": "stdout",
          "output_type": "stream",
          "text": [
            "tensor([10, 11, 12, 13])\n"
          ]
        }
      ],
      "source": [
        "# how to prevent changes in the original array? we can use torch.tensor\n",
        "# in fact it make a copy of the arrey : it creates overhead but avoid changes in the original array\n",
        "# depends to your application you can use torch.Tensor (computationally moe expensive) or from_array\n",
        "\n",
        "arr3 = np.array([10,11,12,13])\n",
        "tens3 = torch.tensor(arr3)\n",
        "print(tens3)"
      ]
    },
    {
      "cell_type": "code",
      "execution_count": 17,
      "metadata": {
        "colab": {
          "base_uri": "https://localhost:8080/"
        },
        "id": "_c7gvsDxn7zj",
        "outputId": "15dcb829-58fd-4f1b-f2cf-787f60237339"
      },
      "outputs": [
        {
          "name": "stdout",
          "output_type": "stream",
          "text": [
            "tensor([200,  11,  12,  13])\n"
          ]
        }
      ],
      "source": [
        "tens3[0] = 200\n",
        "print(tens3)"
      ]
    },
    {
      "cell_type": "code",
      "execution_count": 18,
      "metadata": {
        "colab": {
          "base_uri": "https://localhost:8080/"
        },
        "id": "JJb0tdPCoCk8",
        "outputId": "1ea819bb-7c09-4819-a656-a4dbfbe1b43a"
      },
      "outputs": [
        {
          "name": "stdout",
          "output_type": "stream",
          "text": [
            "[10 11 12 13]\n"
          ]
        }
      ],
      "source": [
        "print(arr3)"
      ]
    }
  ],
  "metadata": {
    "colab": {
      "provenance": []
    },
    "kernelspec": {
      "display_name": "Python 3",
      "name": "python3"
    },
    "language_info": {
      "codemirror_mode": {
        "name": "ipython",
        "version": 3
      },
      "file_extension": ".py",
      "mimetype": "text/x-python",
      "name": "python",
      "nbconvert_exporter": "python",
      "pygments_lexer": "ipython3",
      "version": "3.12.4"
    }
  },
  "nbformat": 4,
  "nbformat_minor": 0
}
